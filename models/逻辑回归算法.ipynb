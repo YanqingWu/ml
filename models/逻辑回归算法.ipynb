{
 "cells": [
  {
   "cell_type": "markdown",
   "metadata": {},
   "source": [
    "# 逻辑回归"
   ]
  },
  {
   "cell_type": "markdown",
   "metadata": {},
   "source": [
    "![逻辑回归](../images/逻辑回归/逻辑斯蒂回归.jpg)"
   ]
  },
  {
   "cell_type": "code",
   "execution_count": 1,
   "metadata": {},
   "outputs": [],
   "source": [
    "import time\n",
    "import numpy as np\n",
    "from sklearn.datasets import load_breast_cancer\n",
    "from sklearn.model_selection import train_test_split"
   ]
  },
  {
   "cell_type": "code",
   "execution_count": 2,
   "metadata": {},
   "outputs": [
    {
     "name": "stdout",
     "output_type": "stream",
     "text": [
      "train size: 426\n",
      "test size: 143\n"
     ]
    }
   ],
   "source": [
    "data = load_breast_cancer()\n",
    "X, y = data['data'], data['target']\n",
    "train_X, test_X, train_y, test_y = train_test_split(X, y)\n",
    "print('train size: %s' % len(train_X))\n",
    "print('test size: %s' % len(test_X))"
   ]
  },
  {
   "cell_type": "code",
   "execution_count": 3,
   "metadata": {},
   "outputs": [],
   "source": [
    "class LogisticRegression:\n",
    "    def __init__(self, train_X, train_y, lr=0.0001, iters=200):\n",
    "        self.train_X = train_X\n",
    "        self.train_y = train_y\n",
    "        self.lr = lr\n",
    "        self.iters = iters\n",
    "        self.__train()\n",
    "        \n",
    "    def __train(self):\n",
    "        train_X = np.hstack([self.train_X, np.ones(self.train_X.shape[0]).reshape(-1, 1)])\n",
    "        w = np.zeros(train_X.shape[1])\n",
    "        lr = self.lr\n",
    "        iters = self.iters\n",
    "        \n",
    "        for i in range(iters):\n",
    "            for j in range(len(train_X)):\n",
    "                wx = np.dot(w, train_X[j])\n",
    "                yi = self.train_y[j]\n",
    "                xi = train_X[j]\n",
    "                w += lr * (xi * yi - (np.exp(wx) * xi) / (1+np.exp(wx)))\n",
    "        self.w = w\n",
    "    \n",
    "    def __predict(self, x):\n",
    "        x = np.array(list(x) + [1])\n",
    "        wx = np.dot(self.w, x)\n",
    "        p = np.exp(wx) / (1+np.exp(wx))\n",
    "        return 1 if p > 0.5 else 0\n",
    "    \n",
    "    def predict(self, test_X):\n",
    "        preds = []\n",
    "        for i in test_X:\n",
    "            preds.append(self.__predict(i))\n",
    "            \n",
    "        return preds"
   ]
  },
  {
   "cell_type": "code",
   "execution_count": 4,
   "metadata": {},
   "outputs": [
    {
     "name": "stdout",
     "output_type": "stream",
     "text": [
      "CPU times: user 2 µs, sys: 1 µs, total: 3 µs\n",
      "Wall time: 6.91 µs\n",
      "算法准确率: 0.8881118881118881\n"
     ]
    }
   ],
   "source": [
    "%time\n",
    "lr = LogisticRegression(train_X, train_y)\n",
    "print('算法准确率: %s' % (sum(lr.predict(test_X) == test_y) / len(test_X)))"
   ]
  }
 ],
 "metadata": {
  "kernelspec": {
   "display_name": "Python 3",
   "language": "python",
   "name": "python3"
  },
  "language_info": {
   "codemirror_mode": {
    "name": "ipython",
    "version": 3
   },
   "file_extension": ".py",
   "mimetype": "text/x-python",
   "name": "python",
   "nbconvert_exporter": "python",
   "pygments_lexer": "ipython3",
   "version": "3.7.3"
  }
 },
 "nbformat": 4,
 "nbformat_minor": 2
}
