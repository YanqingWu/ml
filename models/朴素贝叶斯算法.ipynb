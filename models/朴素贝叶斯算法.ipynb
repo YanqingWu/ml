{
 "cells": [
  {
   "cell_type": "markdown",
   "metadata": {},
   "source": [
    "# 朴素贝叶斯算法"
   ]
  },
  {
   "cell_type": "markdown",
   "metadata": {},
   "source": [
    "![朴素贝叶斯](../images/朴素贝叶斯/朴素贝叶斯算法.jpg)"
   ]
  },
  {
   "cell_type": "markdown",
   "metadata": {},
   "source": [
    "![贝叶斯估计](../images/朴素贝叶斯/贝叶斯估计.jpg)"
   ]
  },
  {
   "cell_type": "code",
   "execution_count": 1,
   "metadata": {},
   "outputs": [],
   "source": [
    "import sys\n",
    "import time\n",
    "import numpy as np\n",
    "from sklearn.datasets import load_breast_cancer\n",
    "from sklearn.model_selection import train_test_split"
   ]
  },
  {
   "cell_type": "code",
   "execution_count": 2,
   "metadata": {},
   "outputs": [
    {
     "name": "stdout",
     "output_type": "stream",
     "text": [
      "train size: 426\n",
      "test size: 143\n"
     ]
    }
   ],
   "source": [
    "data = load_breast_cancer()\n",
    "X, y = data['data'], data['target']\n",
    "train_X, test_X, train_y, test_y = train_test_split(X, y)\n",
    "print('train size: %s' % len(train_X))\n",
    "print('test size: %s' % len(test_X))"
   ]
  },
  {
   "cell_type": "code",
   "execution_count": 3,
   "metadata": {},
   "outputs": [],
   "source": [
    "class NaiveBayes(object):\n",
    "    def __init__(self, train_X, train_y):\n",
    "        self.train_X = np.asarray(train_X)\n",
    "        self.train_y = np.asarray(train_y)\n",
    "        self.__train()\n",
    "        \n",
    "    def __train(self):\n",
    "        # 总样本数\n",
    "        N = len(self.train_X)\n",
    "        # 类别\n",
    "        self.classes = np.unique(self.train_y)\n",
    "#         self.classes = {self.classes[i]: i for i in range(len(self.classes))}\n",
    "        # 特征数\n",
    "        N_features = self.train_X.shape[1]\n",
    "        # 每个特征的取值\n",
    "        Fij = [np.unique(self.train_X[:, i]) for i in range(N_features)]\n",
    "        # 计算每个类别的样本数目\n",
    "        self.sum_Yck = {}\n",
    "        for i in self.classes:\n",
    "            self.sum_Yck[i] = 0\n",
    "        \n",
    "        # 计算在类别等于Ck时，每个特征的子特征出现的次数，采用拉普拉斯平滑\n",
    "        self.sum_Yck_Aij = {}\n",
    "        for i in self.classes:\n",
    "            # 将每个类别下，每个特征的取值都设置为1\n",
    "            self.sum_Yck_Aij[i] = {i: {j: 1 for j in range(len(Fij[i]))} for i in range(N_features)}\n",
    "        for i in range(N):\n",
    "            # 更新类别计数\n",
    "            cls = self.train_y[i]\n",
    "            self.sum_Yck[cls] += 1\n",
    "            for j in range(N_features):\n",
    "                # 更新不同类别下，特征取值计数\n",
    "                for k in range(len(Fij[j])):\n",
    "                    self.sum_Yck_Aij[cls][j][k] += 1\n",
    "        \n",
    "        self.Priori = {k: v / N for k, v in self.sum_Yck.items()}\n",
    "        self.Posterior = self.sum_Yck_Aij\n",
    "        for i in self.classes:\n",
    "            for j in range(N_features):\n",
    "                for k in range(len(Fij[j])):\n",
    "                    self.Posterior[i][j][k] /= self.sum_Yck[i] + sum([len(i) for i in Fij])\n",
    "        return self.Priori, self.Posterior\n",
    "    \n",
    "    def __predict(self, test_X):\n",
    "        preds = [1] * len(self.classes)\n",
    "        for i in self.Posterior.keys():\n",
    "            preds[i] *= self.Priori[i]\n",
    "            for j in self.Posterior[i].keys():\n",
    "                for k in self.Posterior[i][j].keys():\n",
    "                    try:\n",
    "                        preds[i] *= self.Posterior[i][j][k]\n",
    "                    except:\n",
    "                        preds[i] *= (1 / self.sum_Yck[i])\n",
    "\n",
    "        return self.classes[np.argmax(preds)]\n",
    "    \n",
    "    def predict(self, test_X):\n",
    "        res = []\n",
    "        for i in test_X:\n",
    "            res.append(self.__predict(i))\n",
    "        return res"
   ]
  },
  {
   "cell_type": "code",
   "execution_count": 4,
   "metadata": {},
   "outputs": [
    {
     "name": "stdout",
     "output_type": "stream",
     "text": [
      "CPU times: user 2 µs, sys: 0 ns, total: 2 µs\n",
      "Wall time: 4.05 µs\n",
      "算法准确率: 0.3706293706293706\n"
     ]
    }
   ],
   "source": [
    "%time\n",
    "nb = NaiveBayes(train_X, train_y)\n",
    "preds = nb.predict(test_X)\n",
    "print('算法准确率: %s' % (sum(preds == test_y) / len(test_y)))"
   ]
  }
 ],
 "metadata": {
  "kernelspec": {
   "display_name": "Python 3",
   "language": "python",
   "name": "python3"
  },
  "language_info": {
   "codemirror_mode": {
    "name": "ipython",
    "version": 3
   },
   "file_extension": ".py",
   "mimetype": "text/x-python",
   "name": "python",
   "nbconvert_exporter": "python",
   "pygments_lexer": "ipython3",
   "version": "3.7.3"
  }
 },
 "nbformat": 4,
 "nbformat_minor": 2
}
