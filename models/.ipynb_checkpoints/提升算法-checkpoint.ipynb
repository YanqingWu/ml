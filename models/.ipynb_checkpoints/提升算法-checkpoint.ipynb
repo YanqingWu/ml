{
 "cells": [
  {
   "cell_type": "markdown",
   "metadata": {},
   "source": [
    "# 提升算法"
   ]
  },
  {
   "cell_type": "markdown",
   "metadata": {},
   "source": [
    "![Adaboost](../images/提升算法/Adaboost.jpg)\n",
    "![Adaboost](../images/提升算法/Adaboost2.jpg)\n",
    "![Adaboost](../images/提升算法/Adaboost3.jpg)\n",
    "![Adaboost](../images/提升算法/Adaboost4.jpg)\n",
    "![Adaboost](../images/提升算法/Adaboost5.jpg)\n",
    "![Adaboost](../images/提升算法/Adaboost6.jpg)\n",
    "![Adaboost](../images/提升算法/Adaboost7.jpg)\n",
    "![Adaboost](../images/提升算法/Adaboost8.jpg)\n",
    "![Adaboost](../images/提升算法/Adaboost9.jpg)\n",
    "![Adaboost](../images/提升算法/Adaboost10.jpg)\n",
    "![Adaboost](../images/提升算法/Adaboost11.jpg)\n",
    "![Adaboost](../images/提升算法/Adaboost12.jpg)"
   ]
  },
  {
   "cell_type": "markdown",
   "metadata": {},
   "source": [
    "![Adaboost](../images/提升算法/提升树.jpg)\n",
    "![Adaboost](../images/提升算法/提升树2.jpg)\n",
    "![Adaboost](../images/提升算法/提升树3.jpg)\n",
    "![Adaboost](../images/提升算法/提升树4.jpg)\n",
    "![Adaboost](../images/提升算法/提升树5.jpg)\n",
    "![Adaboost](../images/提升算法/提升树6.jpg)\n",
    "![Adaboost](../images/提升算法/提升树7.jpg)"
   ]
  },
  {
   "cell_type": "markdown",
   "metadata": {},
   "source": [
    "![Adaboost](../images/提升算法/梯度提升树.jpg)\n",
    "![Adaboost](../images/提升算法/梯度提升树2.jpg)\n",
    "![Adaboost](../images/提升算法/梯度提升树3.jpg)"
   ]
  },
  {
   "cell_type": "code",
   "execution_count": 1,
   "metadata": {},
   "outputs": [],
   "source": [
    "import time\n",
    "import numpy as np\n",
    "from sklearn.datasets import load_breast_cancer\n",
    "from sklearn.model_selection import train_test_split"
   ]
  },
  {
   "cell_type": "code",
   "execution_count": 2,
   "metadata": {},
   "outputs": [
    {
     "name": "stdout",
     "output_type": "stream",
     "text": [
      "train size: 426\n",
      "test size: 143\n"
     ]
    }
   ],
   "source": [
    "data = load_breast_cancer()\n",
    "X, y = data['data'], data['target']\n",
    "train_X, test_X, train_y, test_y = train_test_split(X, y)\n",
    "print('train size: %s' % len(train_X))\n",
    "print('test size: %s' % len(test_X))"
   ]
  },
  {
   "cell_type": "code",
   "execution_count": 3,
   "metadata": {},
   "outputs": [],
   "source": [
    "class Adaboost:\n",
    "    def __init__(self, train_X, train_y, num_trees=10):\n",
    "        self.train_X = train_X\n",
    "        self.train_y = train_y\n",
    "        self.m, self.n = train_X.shape\n",
    "        self.num_trees = num_trees\n",
    "        self.weight_distribution = np.array([1 / self.m] * self.m)\n",
    "        self.__train()\n",
    "        \n",
    "    def __calcErrorGx(self, feature_column, split, positive=True):\n",
    "        error = 0\n",
    "        x = self.train_X[:, feature_column]\n",
    "        y = self.train_y\n",
    "        predicts = []\n",
    "        if positive:\n",
    "            L = 0\n",
    "            H = 1\n",
    "        else:\n",
    "            L = 1\n",
    "            H = 0\n",
    "        for i in range(self.m):\n",
    "            if x[i] < split:\n",
    "                predicts.append(L)\n",
    "                if y[i] != L:\n",
    "                    error += self.weight_distribution[i]\n",
    "                    \n",
    "            else:\n",
    "                predicts.append(H)\n",
    "                if y[i] != H:\n",
    "                    error += self.weight_distribution[i]\n",
    "                    \n",
    "        return np.array(predicts), error\n",
    "                    \n",
    "    def __createSingleTree(self):\n",
    "        tree = {}\n",
    "        tree['error'] = 1\n",
    "        for i in range(self.n):\n",
    "            for split in np.unique(self.train_X[:, i]):\n",
    "                for is_positive in [True, False]:\n",
    "                    Gx, error = self.__calcErrorGx(i, split, is_positive)\n",
    "                    if error < tree['error']:\n",
    "                        tree['error'] = error\n",
    "                        tree['split'] = split\n",
    "                        tree['is_positive'] = is_positive\n",
    "                        tree['Gx'] = Gx\n",
    "                        tree['feature'] = i\n",
    "        return tree\n",
    "        \n",
    "    def __train(self):\n",
    "        trees = []\n",
    "        for i in range(self.num_trees):\n",
    "            tree = self.__createSingleTree()\n",
    "            alpha = 1/2 * np.log((1-tree['error']) / tree['error'])\n",
    "            Gx = tree['Gx']\n",
    "            \n",
    "            self.weight_distribution = np.multiply(\n",
    "                self.weight_distribution, np.exp(-alpha * np.multiply(self.train_y, Gx))) / sum(self.weight_distribution)\n",
    "            tree['alpha'] = alpha\n",
    "            trees.append(tree)\n",
    "        self.trees = trees\n",
    "        \n",
    "    def __predict(self, x):\n",
    "        res = 0\n",
    "        for tree in self.trees:\n",
    "            split = tree['split']\n",
    "            is_positive = tree['is_positive']\n",
    "            feature = tree['feature']\n",
    "            alpha = tree['alpha']\n",
    "            if is_positive:\n",
    "                if x[feature] > split:\n",
    "                    pred = 1\n",
    "                else:\n",
    "                    pred = 0\n",
    "                    \n",
    "            else:\n",
    "                if x[feature] > split:\n",
    "                    pred = 0\n",
    "                else:\n",
    "                    pred = 1\n",
    "            res += alpha * pred\n",
    "            \n",
    "        return 1 if res > 0.5 else 0\n",
    "    \n",
    "    def predict(self, test_X):\n",
    "        preds = []\n",
    "        for i in test_X:\n",
    "            preds.append(self.__predict(i))\n",
    "        return preds"
   ]
  },
  {
   "cell_type": "code",
   "execution_count": 4,
   "metadata": {},
   "outputs": [],
   "source": [
    "adaboost = Adaboost(train_X, train_y)"
   ]
  },
  {
   "cell_type": "code",
   "execution_count": 5,
   "metadata": {},
   "outputs": [
    {
     "name": "stdout",
     "output_type": "stream",
     "text": [
      "算法准确率: 0.916083916083916\n"
     ]
    }
   ],
   "source": [
    "print('算法准确率: %s' %(sum(adaboost.predict(test_X) == test_y) / len(test_y)))"
   ]
  }
 ],
 "metadata": {
  "kernelspec": {
   "display_name": "Python 3",
   "language": "python",
   "name": "python3"
  },
  "language_info": {
   "codemirror_mode": {
    "name": "ipython",
    "version": 3
   },
   "file_extension": ".py",
   "mimetype": "text/x-python",
   "name": "python",
   "nbconvert_exporter": "python",
   "pygments_lexer": "ipython3",
   "version": "3.7.3"
  }
 },
 "nbformat": 4,
 "nbformat_minor": 2
}
