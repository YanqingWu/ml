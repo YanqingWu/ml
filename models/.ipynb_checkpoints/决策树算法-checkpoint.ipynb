{
 "cells": [
  {
   "cell_type": "markdown",
   "metadata": {},
   "source": [
    "# 决策树"
   ]
  },
  {
   "cell_type": "markdown",
   "metadata": {},
   "source": [
    "![信息增益](../images/决策树/信息增益算法.jpg)\n",
    "![信息增益](../images/决策树/信息增益算法2.jpg)"
   ]
  },
  {
   "cell_type": "code",
   "execution_count": 1,
   "metadata": {},
   "outputs": [],
   "source": [
    "import sys\n",
    "import time\n",
    "import numpy as np\n",
    "from collections import Counter\n",
    "from sklearn.datasets import load_breast_cancer\n",
    "from sklearn.model_selection import train_test_split"
   ]
  },
  {
   "cell_type": "code",
   "execution_count": 2,
   "metadata": {},
   "outputs": [
    {
     "name": "stdout",
     "output_type": "stream",
     "text": [
      "train size: 426\n",
      "test size: 143\n"
     ]
    }
   ],
   "source": [
    "data = load_breast_cancer()\n",
    "X, y = data['data'], data['target']\n",
    "train_X, test_X, train_y, test_y = train_test_split(X, y)\n",
    "print('train size: %s' % len(train_X))\n",
    "print('test size: %s' % len(test_X))"
   ]
  },
  {
   "cell_type": "code",
   "execution_count": 3,
   "metadata": {},
   "outputs": [],
   "source": [
    "def caculate_HD(train_y):\n",
    "    # 计算数据集的经验墒\n",
    "    hd = sum([-sum((train_y==i)) / len(train_y) * np.log2(sum((train_y==i)) / len(train_y)) \n",
    "              for i in np.unique(train_y)])\n",
    "    return hd"
   ]
  },
  {
   "cell_type": "code",
   "execution_count": 4,
   "metadata": {},
   "outputs": [],
   "source": [
    "def caculate_HDAs(train_X, train_y):\n",
    "    # 合并方便后边取标签\n",
    "    data = np.hstack([train_X, train_y.reshape(-1, 1)])\n",
    "    # 计算每个特征的条件墒\n",
    "    hdas = []\n",
    "    classes = np.unique(train_y)\n",
    "    # 对于每一个特征\n",
    "    for a in range(train_X.shape[1]):\n",
    "        hda = 0\n",
    "        # 对于每一个特征的取值\n",
    "        for ai in np.unique(train_X[:, a]):\n",
    "            di = data[data[:, a] == ai]\n",
    "            hdi = 0\n",
    "            # 计算该取值的信息增益\n",
    "            for c in classes:\n",
    "                dik = di[di[:, -1] == c]\n",
    "                if len(dik) == 0:\n",
    "                    hdi += 0\n",
    "                else:\n",
    "                    hdi = len(dik) / len(di) * np.log2(len(dik) / len(di))\n",
    "            # 计算每一个特征的信息增益\n",
    "            hda += -len(di) / len(data) * hdi  \n",
    "        hdas.append(hda)\n",
    "        \n",
    "    return hdas"
   ]
  },
  {
   "cell_type": "code",
   "execution_count": 5,
   "metadata": {},
   "outputs": [],
   "source": [
    "def caculate_GDAs(train_X, train_y):\n",
    "    hd = caculate_HD(train_y)\n",
    "    hdas = caculate_HDAs(train_X, train_y)\n",
    "    gdas = hd - np.asarray(hdas) \n",
    "    return gdas"
   ]
  },
  {
   "cell_type": "code",
   "execution_count": 6,
   "metadata": {},
   "outputs": [],
   "source": [
    "def caculate_GrDAs(train_X, train_y):\n",
    "    hd = caculate_HD(train_y)\n",
    "    gdas = caculate_GDAs(train_X, train_y)\n",
    "    return gdas / hd"
   ]
  },
  {
   "cell_type": "markdown",
   "metadata": {},
   "source": [
    "![ID3](../images/决策树/ID3算法.jpg)\n",
    "![ID3](../images/决策树/ID3算法2.jpg)"
   ]
  },
  {
   "cell_type": "code",
   "execution_count": 7,
   "metadata": {},
   "outputs": [],
   "source": [
    "class DecisionTree:\n",
    "    def __init__(self, train_X, train_y, episilon=0.1):\n",
    "        self.train_X = train_X\n",
    "        self.train_y = train_y\n",
    "        self.episilon = episilon\n",
    "        self.tree = self.__create(train_X, train_y)\n",
    "        \n",
    "    def __most(self, y):\n",
    "        return Counter(y).most_common()[0][0]\n",
    "    \n",
    "    def __sub_big_equal(self, select, ai, train_X, train_y):\n",
    "        data = np.hstack([train_X, train_y.reshape(-1, 1)])\n",
    "        data = data[data[:, select] >= ai]\n",
    "        return data[:, -2:], data[:, -1] \n",
    "    \n",
    "    def __sub_small(self, select, ai, train_X, train_y):\n",
    "        data = np.hstack([train_X, train_y.reshape(-1, 1)])\n",
    "        data = data[data[:, select] != ai]\n",
    "        return data[:, -2:], data[:, -1] \n",
    "        \n",
    "    def __create(self, train_X, train_y):\n",
    "        episilon = self.episilon\n",
    "        if len(np.unique(train_y)) == 1:\n",
    "            return train_y[0]\n",
    "        if len(train_X[0]) == 0:\n",
    "            return self.__most(train_y)\n",
    "        \n",
    "        gdas = caculate_GDAs(train_X, train_y)\n",
    "        select = np.argmax(gdas)\n",
    "        gda = gdas[select]\n",
    "        if gda < episilon:\n",
    "            return __most(train_y)\n",
    "        \n",
    "        tree = {select: {}}\n",
    "        most = 0\n",
    "        most_ai = 0\n",
    "        for ai in np.unique(train_X[:, select]):\n",
    "            di = train_X[train_X[:, select] == ai]\n",
    "            if len(di) >= most:\n",
    "                most = len(di)\n",
    "                most_ai = ai\n",
    "        \n",
    "        tree[select][most_ai] = self.__create(*self.__sub_big_equal(select, ai, train_X, train_y))\n",
    "        tree[select][-most_ai] = self.__create(*self.__sub_small(select, ai, train_X, train_y))\n",
    "        return tree\n",
    "    \n",
    "    def __predict(self, test):\n",
    "        tree = self.tree\n",
    "        while True:\n",
    "            key, value = list(tree.items())[0]\n",
    "            if type(value).__name__ == 'dict':\n",
    "                k = [k for k in value.keys() if k >= 0][0]\n",
    "                if test[key] >= k:\n",
    "                    tree = value[k]\n",
    "                else:\n",
    "                    tree = value[-k]\n",
    "                if type(tree).__name__ != 'dict':\n",
    "                    return tree\n",
    "            else:\n",
    "                return value\n",
    "            \n",
    "    def predict(self, test_X):\n",
    "        res = []\n",
    "        for test in test_X:\n",
    "            res.append(self.__predict(test))\n",
    "        return res"
   ]
  },
  {
   "cell_type": "code",
   "execution_count": 8,
   "metadata": {},
   "outputs": [
    {
     "name": "stdout",
     "output_type": "stream",
     "text": [
      "CPU times: user 2 µs, sys: 1e+03 ns, total: 3 µs\n",
      "Wall time: 4.05 µs\n",
      "算法准确率:  0.7132867132867133\n"
     ]
    }
   ],
   "source": [
    "%time\n",
    "tree = DecisionTree(train_X, train_y, 0.01)\n",
    "print('算法准确率: ', sum(tree.predict(test_X) == test_y) / len(test_y))"
   ]
  }
 ],
 "metadata": {
  "kernelspec": {
   "display_name": "Python 3",
   "language": "python",
   "name": "python3"
  },
  "language_info": {
   "codemirror_mode": {
    "name": "ipython",
    "version": 3
   },
   "file_extension": ".py",
   "mimetype": "text/x-python",
   "name": "python",
   "nbconvert_exporter": "python",
   "pygments_lexer": "ipython3",
   "version": "3.7.3"
  }
 },
 "nbformat": 4,
 "nbformat_minor": 2
}
