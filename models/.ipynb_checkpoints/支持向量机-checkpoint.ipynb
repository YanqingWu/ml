{
 "cells": [
  {
   "cell_type": "markdown",
   "metadata": {},
   "source": [
    "# 线性可分支持向量机算法"
   ]
  },
  {
   "cell_type": "markdown",
   "metadata": {},
   "source": [
    "![支持向量机](../images/支持向量机/最大间隔法.jpg)"
   ]
  },
  {
   "cell_type": "markdown",
   "metadata": {},
   "source": [
    "![存在唯一性](../images/支持向量机/存在唯一性.jpg)\n",
    "![存在唯一性](../images/支持向量机/存在唯一性2.jpg)\n",
    "![存在唯一性](../images/支持向量机/存在唯一性3.jpg)"
   ]
  },
  {
   "cell_type": "markdown",
   "metadata": {},
   "source": [
    "![对偶算法](../images/支持向量机/对偶算法.jpg)\n",
    "![对偶算法](../images/支持向量机/对偶算法2.jpg)\n",
    "![对偶算法](../images/支持向量机/对偶算法3.jpg)\n",
    "![对偶算法](../images/支持向量机/对偶算法4.jpg)"
   ]
  },
  {
   "cell_type": "markdown",
   "metadata": {},
   "source": [
    " "
   ]
  },
  {
   "cell_type": "markdown",
   "metadata": {},
   "source": [
    "# 线性支持向量机算法"
   ]
  },
  {
   "cell_type": "markdown",
   "metadata": {},
   "source": [
    "![线性支持向量机](../images/支持向量机/线性支持向量机.jpg)\n",
    "![线性支持向量机](../images/支持向量机/线性支持向量机2.jpg)\n",
    "![线性支持向量机](../images/支持向量机/线性支持向量机3.jpg)\n",
    "![线性支持向量机](../images/支持向量机/线性支持向量机4.jpg)"
   ]
  },
  {
   "cell_type": "markdown",
   "metadata": {},
   "source": [
    "![合叶损失函数](../images/支持向量机/合叶损失函数.jpg)\n",
    "![合叶损失函数](../images/支持向量机/合叶损失函数2.jpg)"
   ]
  },
  {
   "cell_type": "markdown",
   "metadata": {},
   "source": [
    "![核技巧](../images/支持向量机/核技巧.jpg)\n",
    "![核技巧](../images/支持向量机/核技巧2.jpg)\n",
    "![核技巧](../images/支持向量机/核技巧3.jpg)\n",
    "![核技巧](../images/支持向量机/核技巧4.jpg)\n",
    "![核技巧](../images/支持向量机/核技巧5.jpg)"
   ]
  },
  {
   "cell_type": "markdown",
   "metadata": {},
   "source": [
    " "
   ]
  },
  {
   "cell_type": "markdown",
   "metadata": {},
   "source": [
    "# 序列最小优化算法（SMO算法）"
   ]
  },
  {
   "cell_type": "markdown",
   "metadata": {},
   "source": [
    "![SMO算法](../images/支持向量机/SMO算法.jpg)\n",
    "![SMO算法](../images/支持向量机/SMO算法2.jpg)\n",
    "![SMO算法](../images/支持向量机/SMO算法3.jpg)\n",
    "![SMO算法](../images/支持向量机/SMO算法4.jpg)\n",
    "![SMO算法](../images/支持向量机/SMO算法5.jpg)\n",
    "![SMO算法](../images/支持向量机/SMO算法6.jpg)\n",
    "![SMO算法](../images/支持向量机/SMO算法7.jpg)"
   ]
  },
  {
   "cell_type": "markdown",
   "metadata": {},
   "source": [
    "## SMO算法的求解"
   ]
  },
  {
   "cell_type": "markdown",
   "metadata": {},
   "source": [
    "![SMO算法](../images/支持向量机/SMO算法8.jpg)\n",
    "![SMO算法](../images/支持向量机/SMO算法9.jpg)\n",
    "![SMO算法](../images/支持向量机/SMO算法10.jpg)\n",
    "![SMO算法](../images/支持向量机/SMO算法11.jpg)\n",
    "![SMO算法](../images/支持向量机/SMO算法12.jpg)\n",
    "![SMO算法](../images/支持向量机/SMO算法13.jpg)\n",
    "![SMO算法](../images/支持向量机/SMO算法14.jpg)\n",
    "![SMO算法](../images/支持向量机/SMO算法15.jpg)\n",
    "![SMO算法](../images/支持向量机/SMO算法16.jpg)"
   ]
  },
  {
   "cell_type": "code",
   "execution_count": 1,
   "metadata": {},
   "outputs": [],
   "source": [
    "import sys\n",
    "import time\n",
    "import random\n",
    "import numpy as np\n",
    "from collections import Counter\n",
    "from heapq import heappush, heappop\n",
    "from sklearn.datasets import load_breast_cancer\n",
    "from sklearn.model_selection import train_test_split"
   ]
  },
  {
   "cell_type": "code",
   "execution_count": 2,
   "metadata": {},
   "outputs": [
    {
     "name": "stdout",
     "output_type": "stream",
     "text": [
      "train size: 426\n",
      "test size: 143\n"
     ]
    }
   ],
   "source": [
    "data = load_breast_cancer()\n",
    "X, y = data['data'], data['target']\n",
    "train_X, test_X, train_y, test_y = train_test_split(X, y)\n",
    "print('train size: %s' % len(train_X))\n",
    "print('test size: %s' % len(test_X))"
   ]
  },
  {
   "cell_type": "code",
   "execution_count": 3,
   "metadata": {},
   "outputs": [],
   "source": [
    "class SVM:\n",
    "    def __init__(self, train_X, train_y, sigma=10, C=200, tol=0.001, iters=10):\n",
    "        self.train_X = np.mat(train_X)\n",
    "        self.train_y = train_y\n",
    "        self.m, self.n = np.shape(self.train_X)\n",
    "        self.sigma = sigma\n",
    "        self.C = C\n",
    "        self.tol = tol\n",
    "        self.iters = iters\n",
    "        self.kernal = self.__calcKernel()\n",
    "        self.bias = 0\n",
    "        self.alpha = [0] * self.m\n",
    "        self.E = [0 for i in range(self.m)] \n",
    "        self.__train()\n",
    "        self.supportVecIndex = [i for i in range(self.m) if (self.alpha[i] > 0)]\n",
    "        \n",
    "        \n",
    "    def __calcKernel(self):\n",
    "        k = [[0 for i in range(self.m)] for j in range(self.m)]\n",
    "        for i in range(self.m):\n",
    "            X = self.train_X[i, :]\n",
    "            for j in range(i, self.m):\n",
    "                Z = self.train_X[j, :]\n",
    "                result = (X - Z) * (X - Z).T\n",
    "                result = np.exp(-1 * result / (2 * self.sigma**2))\n",
    "                k[i][j] = result\n",
    "                k[j][i] = result\n",
    "                \n",
    "        return k\n",
    "    \n",
    "    def __calc_gxi(self, i):\n",
    "        gxi = 0\n",
    "        for j in range(self.m):\n",
    "            gxi += self.alpha[i] * self.kernal[j][i] * self.train_y[i]\n",
    "        return gxi + self.bias\n",
    "    \n",
    "    def __isSatisfyKKT(self, i):\n",
    "        gxi = self.__calc_gxi(i)\n",
    "        yi = self.train_y[i]\n",
    "        if (abs(self.alpha[i]) < self.tol) and (yi * gxi >= 1):\n",
    "            return True\n",
    "        elif (abs(self.alpha[i] - self.C) < self.tol) and (yi * gxi <= 1):\n",
    "            return True\n",
    "        elif (self.alpha[i] > -self.tol) and (self.alpha[i] < (self.C + self.tol)) and (\n",
    "                                            abs(yi * gxi - 1) < self.tol):\n",
    "            return True\n",
    "        return False\n",
    "    \n",
    "    def __calcEi(self, i):\n",
    "        gxi = self.__calc_gxi(i)\n",
    "        return gxi - self.train_y[i]\n",
    "    \n",
    "    def __get_alpha2(self, E1, i):\n",
    "        E2 = 0\n",
    "        max_E1_sub_E2 = -1\n",
    "        maxIndex = -1\n",
    "        nonZero = [i for i, Ei in enumerate(self.E) if Ei != 0]\n",
    "        for j in nonZero:\n",
    "            E2_tmp = self.__calcEi(j)\n",
    "            if abs(E1 - E2_tmp) > max_E1_sub_E2:\n",
    "                max_E1_sub_E2 = abs(E1 - E2_tmp)\n",
    "                E2 = E2_tmp\n",
    "                maxIndex = j\n",
    "\n",
    "        if maxIndex == -1:\n",
    "            maxIndex = i\n",
    "            while maxIndex == i:\n",
    "                maxIndex = int(random.uniform(0, self.m))\n",
    "            E2 = self.__calcEi(maxIndex)\n",
    "        return E2, maxIndex  \n",
    "    \n",
    "    def __train(self):\n",
    "        step = 0\n",
    "        convergence = False\n",
    "        while step < self.iters or not convergence:\n",
    "            changed_count = 0\n",
    "            for i in range(self.m):\n",
    "                if not self.__isSatisfyKKT(i):\n",
    "                    E1 = self.__calcEi(i)\n",
    "                    E2, j = self.__get_alpha2(E1, i)\n",
    "                    y1 = self.train_y[i]\n",
    "                    y2 = self.train_y[j]\n",
    "                    alpha_old1 = self.alpha[i]\n",
    "                    alpha_old2 = self.alpha[j]\n",
    "                    if y1 != y2:\n",
    "                        L = max(0, alpha_old2 - alpha_old1)\n",
    "                        H = min(self.C, self.C + alpha_old2 - alpha_old1)\n",
    "                    else:\n",
    "                        L = max(0, alpha_old2 + alpha_old1 - self.C)\n",
    "                        H = min(self.C, alpha_old2 + alpha_old1)\n",
    "                    \n",
    "                    if L == H:\n",
    "                        continue\n",
    "                    k11 = self.kernal[i][i]\n",
    "                    k12 = self.kernal[i][j]\n",
    "                    k21 = self.kernal[j][i]\n",
    "                    k22 = self.kernal[j][j]\n",
    "                    \n",
    "                    alpha_new2_unc = alpha_old2 + y2 * (E1 - E2) / (k11 + k22 - 2 * k12)\n",
    "                    if alpha_new2_unc > H:\n",
    "                        alpha_new2 = H\n",
    "                    if alpha_new2_unc < L:\n",
    "                        alpha_new2 = L\n",
    "                    if L <= alpha_new2_unc <= H:\n",
    "                        alpha_new2 = alpha_new2_unc\n",
    "                    \n",
    "                    alpha_new1 = alpha_old1 + y1 * y2 * (alpha_old2 - alpha_old1)\n",
    "                    \n",
    "                    b1_new = -E1 - y1*k11*(alpha_new1 - alpha_old1) - y2*k21*(alpha_new2 - alpha_old2) + self.bias\n",
    "                    b2_new = -E2 - y1*k12*(alpha_new1 - alpha_new2) - y2*k22*(alpha_new2 - alpha_old2) + self.bias\n",
    "                    \n",
    "                    if (0 < alpha_new1 < self.C) and (0 < alpha_new2 < self.C):\n",
    "                        self.bias = b1_new\n",
    "                        \n",
    "                    else:\n",
    "                        self.bias = (b1_new + b2_new) / 2\n",
    "                        \n",
    "                    self.alpha[i] = alpha_new1\n",
    "                    self.alpha[j] = alpha_new2\n",
    "                    \n",
    "                    self.E[i] = self.__calcEi(i)\n",
    "                    self.E[j] = self.__calcEi(j)\n",
    "                    if abs(alpha_new2 - alpha_old2) < 0.00001:\n",
    "                        changed_count += 1\n",
    "                        \n",
    "                convergence = True if not changed_count else False\n",
    "            step += 1\n",
    "            print(step)\n",
    "    \n",
    "    def __calcSinglKernel(self, x1, x2):\n",
    "        result = (x1 - x2) * (x1 - x2).T\n",
    "        result = np.exp(-1 * result / (2 * self.sigma ** 2))\n",
    "        return np.exp(result)\n",
    "    \n",
    "    \n",
    "    def __predict(self, x):\n",
    "        result = 0\n",
    "        for i in self.supportVecIndex:\n",
    "            tmp = self.__calcSinglKernel(self.train_X[i, :], np.mat(x))\n",
    "            result += self.alpha[i] * self.train_y[i] * tmp\n",
    "        result += self.b\n",
    "        return 0 if result < 0 else 1\n",
    "    \n",
    "    def predict(self, test_X):\n",
    "        preds = []\n",
    "        for i in test_X:\n",
    "            preds.append(self.__predict(i))\n",
    "            \n",
    "        return preds"
   ]
  },
  {
   "cell_type": "code",
   "execution_count": 4,
   "metadata": {},
   "outputs": [
    {
     "name": "stdout",
     "output_type": "stream",
     "text": [
      "1\n"
     ]
    },
    {
     "ename": "KeyboardInterrupt",
     "evalue": "",
     "output_type": "error",
     "traceback": [
      "\u001b[0;31m---------------------------------------------------------------------------\u001b[0m",
      "\u001b[0;31mKeyboardInterrupt\u001b[0m                         Traceback (most recent call last)",
      "\u001b[0;32m<ipython-input-4-939074cc241b>\u001b[0m in \u001b[0;36m<module>\u001b[0;34m\u001b[0m\n\u001b[0;32m----> 1\u001b[0;31m \u001b[0msvm\u001b[0m \u001b[0;34m=\u001b[0m \u001b[0mSVM\u001b[0m\u001b[0;34m(\u001b[0m\u001b[0mtrain_X\u001b[0m\u001b[0;34m,\u001b[0m \u001b[0mtrain_y\u001b[0m\u001b[0;34m)\u001b[0m\u001b[0;34m\u001b[0m\u001b[0;34m\u001b[0m\u001b[0m\n\u001b[0m",
      "\u001b[0;32m<ipython-input-3-2380becec986>\u001b[0m in \u001b[0;36m__init__\u001b[0;34m(self, train_X, train_y, sigma, C, tol, iters)\u001b[0m\n\u001b[1;32m     12\u001b[0m         \u001b[0mself\u001b[0m\u001b[0;34m.\u001b[0m\u001b[0malpha\u001b[0m \u001b[0;34m=\u001b[0m \u001b[0;34m[\u001b[0m\u001b[0;36m0\u001b[0m\u001b[0;34m]\u001b[0m \u001b[0;34m*\u001b[0m \u001b[0mself\u001b[0m\u001b[0;34m.\u001b[0m\u001b[0mm\u001b[0m\u001b[0;34m\u001b[0m\u001b[0;34m\u001b[0m\u001b[0m\n\u001b[1;32m     13\u001b[0m         \u001b[0mself\u001b[0m\u001b[0;34m.\u001b[0m\u001b[0mE\u001b[0m \u001b[0;34m=\u001b[0m \u001b[0;34m[\u001b[0m\u001b[0;36m0\u001b[0m \u001b[0;32mfor\u001b[0m \u001b[0mi\u001b[0m \u001b[0;32min\u001b[0m \u001b[0mrange\u001b[0m\u001b[0;34m(\u001b[0m\u001b[0mself\u001b[0m\u001b[0;34m.\u001b[0m\u001b[0mm\u001b[0m\u001b[0;34m)\u001b[0m\u001b[0;34m]\u001b[0m\u001b[0;34m\u001b[0m\u001b[0;34m\u001b[0m\u001b[0m\n\u001b[0;32m---> 14\u001b[0;31m         \u001b[0mself\u001b[0m\u001b[0;34m.\u001b[0m\u001b[0m__train\u001b[0m\u001b[0;34m(\u001b[0m\u001b[0;34m)\u001b[0m\u001b[0;34m\u001b[0m\u001b[0;34m\u001b[0m\u001b[0m\n\u001b[0m\u001b[1;32m     15\u001b[0m         \u001b[0mself\u001b[0m\u001b[0;34m.\u001b[0m\u001b[0msupportVecIndex\u001b[0m \u001b[0;34m=\u001b[0m \u001b[0;34m[\u001b[0m\u001b[0mi\u001b[0m \u001b[0;32mfor\u001b[0m \u001b[0mi\u001b[0m \u001b[0;32min\u001b[0m \u001b[0mrange\u001b[0m\u001b[0;34m(\u001b[0m\u001b[0mself\u001b[0m\u001b[0;34m.\u001b[0m\u001b[0mm\u001b[0m\u001b[0;34m)\u001b[0m \u001b[0;32mif\u001b[0m \u001b[0;34m(\u001b[0m\u001b[0mself\u001b[0m\u001b[0;34m.\u001b[0m\u001b[0malpha\u001b[0m\u001b[0;34m[\u001b[0m\u001b[0mi\u001b[0m\u001b[0;34m]\u001b[0m \u001b[0;34m>\u001b[0m \u001b[0;36m0\u001b[0m\u001b[0;34m)\u001b[0m\u001b[0;34m]\u001b[0m\u001b[0;34m\u001b[0m\u001b[0;34m\u001b[0m\u001b[0m\n\u001b[1;32m     16\u001b[0m \u001b[0;34m\u001b[0m\u001b[0m\n",
      "\u001b[0;32m<ipython-input-3-2380becec986>\u001b[0m in \u001b[0;36m__train\u001b[0;34m(self)\u001b[0m\n\u001b[1;32m     78\u001b[0m                 \u001b[0;32mif\u001b[0m \u001b[0;32mnot\u001b[0m \u001b[0mself\u001b[0m\u001b[0;34m.\u001b[0m\u001b[0m__isSatisfyKKT\u001b[0m\u001b[0;34m(\u001b[0m\u001b[0mi\u001b[0m\u001b[0;34m)\u001b[0m\u001b[0;34m:\u001b[0m\u001b[0;34m\u001b[0m\u001b[0;34m\u001b[0m\u001b[0m\n\u001b[1;32m     79\u001b[0m                     \u001b[0mE1\u001b[0m \u001b[0;34m=\u001b[0m \u001b[0mself\u001b[0m\u001b[0;34m.\u001b[0m\u001b[0m__calcEi\u001b[0m\u001b[0;34m(\u001b[0m\u001b[0mi\u001b[0m\u001b[0;34m)\u001b[0m\u001b[0;34m\u001b[0m\u001b[0;34m\u001b[0m\u001b[0m\n\u001b[0;32m---> 80\u001b[0;31m                     \u001b[0mE2\u001b[0m\u001b[0;34m,\u001b[0m \u001b[0mj\u001b[0m \u001b[0;34m=\u001b[0m \u001b[0mself\u001b[0m\u001b[0;34m.\u001b[0m\u001b[0m__get_alpha2\u001b[0m\u001b[0;34m(\u001b[0m\u001b[0mE1\u001b[0m\u001b[0;34m,\u001b[0m \u001b[0mi\u001b[0m\u001b[0;34m)\u001b[0m\u001b[0;34m\u001b[0m\u001b[0;34m\u001b[0m\u001b[0m\n\u001b[0m\u001b[1;32m     81\u001b[0m                     \u001b[0my1\u001b[0m \u001b[0;34m=\u001b[0m \u001b[0mself\u001b[0m\u001b[0;34m.\u001b[0m\u001b[0mtrain_y\u001b[0m\u001b[0;34m[\u001b[0m\u001b[0mi\u001b[0m\u001b[0;34m]\u001b[0m\u001b[0;34m\u001b[0m\u001b[0;34m\u001b[0m\u001b[0m\n\u001b[1;32m     82\u001b[0m                     \u001b[0my2\u001b[0m \u001b[0;34m=\u001b[0m \u001b[0mself\u001b[0m\u001b[0;34m.\u001b[0m\u001b[0mtrain_y\u001b[0m\u001b[0;34m[\u001b[0m\u001b[0mj\u001b[0m\u001b[0;34m]\u001b[0m\u001b[0;34m\u001b[0m\u001b[0;34m\u001b[0m\u001b[0m\n",
      "\u001b[0;32m<ipython-input-3-2380becec986>\u001b[0m in \u001b[0;36m__get_alpha2\u001b[0;34m(self, E1, i)\u001b[0m\n\u001b[1;32m     57\u001b[0m         \u001b[0mnonZero\u001b[0m \u001b[0;34m=\u001b[0m \u001b[0;34m[\u001b[0m\u001b[0mi\u001b[0m \u001b[0;32mfor\u001b[0m \u001b[0mi\u001b[0m\u001b[0;34m,\u001b[0m \u001b[0mEi\u001b[0m \u001b[0;32min\u001b[0m \u001b[0menumerate\u001b[0m\u001b[0;34m(\u001b[0m\u001b[0mself\u001b[0m\u001b[0;34m.\u001b[0m\u001b[0mE\u001b[0m\u001b[0;34m)\u001b[0m \u001b[0;32mif\u001b[0m \u001b[0mEi\u001b[0m \u001b[0;34m!=\u001b[0m \u001b[0;36m0\u001b[0m\u001b[0;34m]\u001b[0m\u001b[0;34m\u001b[0m\u001b[0;34m\u001b[0m\u001b[0m\n\u001b[1;32m     58\u001b[0m         \u001b[0;32mfor\u001b[0m \u001b[0mj\u001b[0m \u001b[0;32min\u001b[0m \u001b[0mnonZero\u001b[0m\u001b[0;34m:\u001b[0m\u001b[0;34m\u001b[0m\u001b[0;34m\u001b[0m\u001b[0m\n\u001b[0;32m---> 59\u001b[0;31m             \u001b[0mE2_tmp\u001b[0m \u001b[0;34m=\u001b[0m \u001b[0mself\u001b[0m\u001b[0;34m.\u001b[0m\u001b[0m__calcEi\u001b[0m\u001b[0;34m(\u001b[0m\u001b[0mj\u001b[0m\u001b[0;34m)\u001b[0m\u001b[0;34m\u001b[0m\u001b[0;34m\u001b[0m\u001b[0m\n\u001b[0m\u001b[1;32m     60\u001b[0m             \u001b[0;32mif\u001b[0m \u001b[0mabs\u001b[0m\u001b[0;34m(\u001b[0m\u001b[0mE1\u001b[0m \u001b[0;34m-\u001b[0m \u001b[0mE2_tmp\u001b[0m\u001b[0;34m)\u001b[0m \u001b[0;34m>\u001b[0m \u001b[0mmax_E1_sub_E2\u001b[0m\u001b[0;34m:\u001b[0m\u001b[0;34m\u001b[0m\u001b[0;34m\u001b[0m\u001b[0m\n\u001b[1;32m     61\u001b[0m                 \u001b[0mmax_E1_sub_E2\u001b[0m \u001b[0;34m=\u001b[0m \u001b[0mabs\u001b[0m\u001b[0;34m(\u001b[0m\u001b[0mE1\u001b[0m \u001b[0;34m-\u001b[0m \u001b[0mE2_tmp\u001b[0m\u001b[0;34m)\u001b[0m\u001b[0;34m\u001b[0m\u001b[0;34m\u001b[0m\u001b[0m\n",
      "\u001b[0;32m<ipython-input-3-2380becec986>\u001b[0m in \u001b[0;36m__calcEi\u001b[0;34m(self, i)\u001b[0m\n\u001b[1;32m     48\u001b[0m \u001b[0;34m\u001b[0m\u001b[0m\n\u001b[1;32m     49\u001b[0m     \u001b[0;32mdef\u001b[0m \u001b[0m__calcEi\u001b[0m\u001b[0;34m(\u001b[0m\u001b[0mself\u001b[0m\u001b[0;34m,\u001b[0m \u001b[0mi\u001b[0m\u001b[0;34m)\u001b[0m\u001b[0;34m:\u001b[0m\u001b[0;34m\u001b[0m\u001b[0;34m\u001b[0m\u001b[0m\n\u001b[0;32m---> 50\u001b[0;31m         \u001b[0mgxi\u001b[0m \u001b[0;34m=\u001b[0m \u001b[0mself\u001b[0m\u001b[0;34m.\u001b[0m\u001b[0m__calc_gxi\u001b[0m\u001b[0;34m(\u001b[0m\u001b[0mi\u001b[0m\u001b[0;34m)\u001b[0m\u001b[0;34m\u001b[0m\u001b[0;34m\u001b[0m\u001b[0m\n\u001b[0m\u001b[1;32m     51\u001b[0m         \u001b[0;32mreturn\u001b[0m \u001b[0mgxi\u001b[0m \u001b[0;34m-\u001b[0m \u001b[0mself\u001b[0m\u001b[0;34m.\u001b[0m\u001b[0mtrain_y\u001b[0m\u001b[0;34m[\u001b[0m\u001b[0mi\u001b[0m\u001b[0;34m]\u001b[0m\u001b[0;34m\u001b[0m\u001b[0;34m\u001b[0m\u001b[0m\n\u001b[1;32m     52\u001b[0m \u001b[0;34m\u001b[0m\u001b[0m\n",
      "\u001b[0;32m<ipython-input-3-2380becec986>\u001b[0m in \u001b[0;36m__calc_gxi\u001b[0;34m(self, i)\u001b[0m\n\u001b[1;32m     32\u001b[0m         \u001b[0mgxi\u001b[0m \u001b[0;34m=\u001b[0m \u001b[0;36m0\u001b[0m\u001b[0;34m\u001b[0m\u001b[0;34m\u001b[0m\u001b[0m\n\u001b[1;32m     33\u001b[0m         \u001b[0;32mfor\u001b[0m \u001b[0mj\u001b[0m \u001b[0;32min\u001b[0m \u001b[0mrange\u001b[0m\u001b[0;34m(\u001b[0m\u001b[0mself\u001b[0m\u001b[0;34m.\u001b[0m\u001b[0mm\u001b[0m\u001b[0;34m)\u001b[0m\u001b[0;34m:\u001b[0m\u001b[0;34m\u001b[0m\u001b[0;34m\u001b[0m\u001b[0m\n\u001b[0;32m---> 34\u001b[0;31m             \u001b[0mgxi\u001b[0m \u001b[0;34m+=\u001b[0m \u001b[0mself\u001b[0m\u001b[0;34m.\u001b[0m\u001b[0malpha\u001b[0m\u001b[0;34m[\u001b[0m\u001b[0mi\u001b[0m\u001b[0;34m]\u001b[0m \u001b[0;34m*\u001b[0m \u001b[0mself\u001b[0m\u001b[0;34m.\u001b[0m\u001b[0mkernal\u001b[0m\u001b[0;34m[\u001b[0m\u001b[0mj\u001b[0m\u001b[0;34m]\u001b[0m\u001b[0;34m[\u001b[0m\u001b[0mi\u001b[0m\u001b[0;34m]\u001b[0m \u001b[0;34m*\u001b[0m \u001b[0mself\u001b[0m\u001b[0;34m.\u001b[0m\u001b[0mtrain_y\u001b[0m\u001b[0;34m[\u001b[0m\u001b[0mi\u001b[0m\u001b[0;34m]\u001b[0m\u001b[0;34m\u001b[0m\u001b[0;34m\u001b[0m\u001b[0m\n\u001b[0m\u001b[1;32m     35\u001b[0m         \u001b[0;32mreturn\u001b[0m \u001b[0mgxi\u001b[0m \u001b[0;34m+\u001b[0m \u001b[0mself\u001b[0m\u001b[0;34m.\u001b[0m\u001b[0mbias\u001b[0m\u001b[0;34m\u001b[0m\u001b[0;34m\u001b[0m\u001b[0m\n\u001b[1;32m     36\u001b[0m \u001b[0;34m\u001b[0m\u001b[0m\n",
      "\u001b[0;32m/usr/local/anaconda3/lib/python3.7/site-packages/numpy/matrixlib/defmatrix.py\u001b[0m in \u001b[0;36m__mul__\u001b[0;34m(self, other)\u001b[0m\n\u001b[1;32m    220\u001b[0m             \u001b[0;32mreturn\u001b[0m \u001b[0mN\u001b[0m\u001b[0;34m.\u001b[0m\u001b[0mdot\u001b[0m\u001b[0;34m(\u001b[0m\u001b[0mself\u001b[0m\u001b[0;34m,\u001b[0m \u001b[0masmatrix\u001b[0m\u001b[0;34m(\u001b[0m\u001b[0mother\u001b[0m\u001b[0;34m)\u001b[0m\u001b[0;34m)\u001b[0m\u001b[0;34m\u001b[0m\u001b[0;34m\u001b[0m\u001b[0m\n\u001b[1;32m    221\u001b[0m         \u001b[0;32mif\u001b[0m \u001b[0misscalar\u001b[0m\u001b[0;34m(\u001b[0m\u001b[0mother\u001b[0m\u001b[0;34m)\u001b[0m \u001b[0;32mor\u001b[0m \u001b[0;32mnot\u001b[0m \u001b[0mhasattr\u001b[0m\u001b[0;34m(\u001b[0m\u001b[0mother\u001b[0m\u001b[0;34m,\u001b[0m \u001b[0;34m'__rmul__'\u001b[0m\u001b[0;34m)\u001b[0m \u001b[0;34m:\u001b[0m\u001b[0;34m\u001b[0m\u001b[0;34m\u001b[0m\u001b[0m\n\u001b[0;32m--> 222\u001b[0;31m             \u001b[0;32mreturn\u001b[0m \u001b[0mN\u001b[0m\u001b[0;34m.\u001b[0m\u001b[0mdot\u001b[0m\u001b[0;34m(\u001b[0m\u001b[0mself\u001b[0m\u001b[0;34m,\u001b[0m \u001b[0mother\u001b[0m\u001b[0;34m)\u001b[0m\u001b[0;34m\u001b[0m\u001b[0;34m\u001b[0m\u001b[0m\n\u001b[0m\u001b[1;32m    223\u001b[0m         \u001b[0;32mreturn\u001b[0m \u001b[0mNotImplemented\u001b[0m\u001b[0;34m\u001b[0m\u001b[0;34m\u001b[0m\u001b[0m\n\u001b[1;32m    224\u001b[0m \u001b[0;34m\u001b[0m\u001b[0m\n",
      "\u001b[0;32m<__array_function__ internals>\u001b[0m in \u001b[0;36mdot\u001b[0;34m(*args, **kwargs)\u001b[0m\n",
      "\u001b[0;32m/usr/local/anaconda3/lib/python3.7/site-packages/numpy/matrixlib/defmatrix.py\u001b[0m in \u001b[0;36m__array_finalize__\u001b[0;34m(self, obj)\u001b[0m\n\u001b[1;32m    167\u001b[0m         \u001b[0;32mreturn\u001b[0m \u001b[0mret\u001b[0m\u001b[0;34m\u001b[0m\u001b[0;34m\u001b[0m\u001b[0m\n\u001b[1;32m    168\u001b[0m \u001b[0;34m\u001b[0m\u001b[0m\n\u001b[0;32m--> 169\u001b[0;31m     \u001b[0;32mdef\u001b[0m \u001b[0m__array_finalize__\u001b[0m\u001b[0;34m(\u001b[0m\u001b[0mself\u001b[0m\u001b[0;34m,\u001b[0m \u001b[0mobj\u001b[0m\u001b[0;34m)\u001b[0m\u001b[0;34m:\u001b[0m\u001b[0;34m\u001b[0m\u001b[0;34m\u001b[0m\u001b[0m\n\u001b[0m\u001b[1;32m    170\u001b[0m         \u001b[0mself\u001b[0m\u001b[0;34m.\u001b[0m\u001b[0m_getitem\u001b[0m \u001b[0;34m=\u001b[0m \u001b[0;32mFalse\u001b[0m\u001b[0;34m\u001b[0m\u001b[0;34m\u001b[0m\u001b[0m\n\u001b[1;32m    171\u001b[0m         \u001b[0;32mif\u001b[0m \u001b[0;34m(\u001b[0m\u001b[0misinstance\u001b[0m\u001b[0;34m(\u001b[0m\u001b[0mobj\u001b[0m\u001b[0;34m,\u001b[0m \u001b[0mmatrix\u001b[0m\u001b[0;34m)\u001b[0m \u001b[0;32mand\u001b[0m \u001b[0mobj\u001b[0m\u001b[0;34m.\u001b[0m\u001b[0m_getitem\u001b[0m\u001b[0;34m)\u001b[0m\u001b[0;34m:\u001b[0m \u001b[0;32mreturn\u001b[0m\u001b[0;34m\u001b[0m\u001b[0;34m\u001b[0m\u001b[0m\n",
      "\u001b[0;31mKeyboardInterrupt\u001b[0m: "
     ]
    }
   ],
   "source": [
    "svm = SVM(train_X, train_y)"
   ]
  }
 ],
 "metadata": {
  "kernelspec": {
   "display_name": "Python 3",
   "language": "python",
   "name": "python3"
  },
  "language_info": {
   "codemirror_mode": {
    "name": "ipython",
    "version": 3
   },
   "file_extension": ".py",
   "mimetype": "text/x-python",
   "name": "python",
   "nbconvert_exporter": "python",
   "pygments_lexer": "ipython3",
   "version": "3.7.3"
  }
 },
 "nbformat": 4,
 "nbformat_minor": 2
}
